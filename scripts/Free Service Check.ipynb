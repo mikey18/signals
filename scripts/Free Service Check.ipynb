{
 "cells": [
  {
   "cell_type": "code",
   "execution_count": null,
   "id": "bebf4794-af28-4e38-bfad-b96cfe74e39b",
   "metadata": {},
   "outputs": [],
   "source": [
    "import pandas as pd\n",
    "import numpy as np\n",
    "import vectorbt as vbt\n",
    "import MetaTrader5 as mt5\n",
    "import datetime\n",
    "import time\n",
    "\n",
    "\n",
    "if not mt5.initialize():\n",
    "    print(\"initialize() failed, error code =\", mt5.last_error())\n",
    "    quit()\n",
    "symbol = 'XAUUSD'  # or any other valid symbol\n",
    "symbol_info = mt5.symbol_info(symbol)\n",
    "\n",
    "while True:\n",
    "    print(\"Getting data in progress...\")\n",
    "    # Get the latest data\n",
    "    bars = mt5.copy_rates_from(symbol, mt5.TIMEFRAME_M1, datetime.datetime.now(), 365)\n",
    "    df = pd.DataFrame(bars)\n",
    "    df['time'] = pd.to_datetime(df['time'], unit='s')\n",
    "    df = df.set_index('time')\n",
    "\n",
    "    # Calculate RSI\n",
    "    rsi = vbt.RSI.run(df['close'], 14)\n",
    "    \n",
    "    # Check buy condition\n",
    "    buy_condition = rsi.rsi > 78\n",
    "    \n",
    "    # Check sell condition\n",
    "    sell_condition = rsi.rsi < 22\n",
    "\n",
    "    \n",
    "    if buy_condition.iloc[-1]:\n",
    "        print(\"Buy condition met:\")\n",
    "        current_price = df['close'].iloc[-1]\n",
    "        stop_loss = current_price - 1000 * symbol_info.point\n",
    "        take_profit = current_price + 1500* symbol_info.point\n",
    "        print(f\"RSI: {rsi.rsi.iloc[-1]:.2f} (above 78)\")\n",
    "        print(f\"Current price: {current_price:.5f}\")\n",
    "        print(f\"Stop loss: {stop_loss:.5f}\")\n",
    "        print(f\"Take profit: {take_profit:.5f}\")\n",
    "        print(\"-\" * 30)\n",
    "    \n",
    "    if sell_condition.iloc[-1]:\n",
    "        print(\"Sell condition met:\")\n",
    "        current_price = df['close'].iloc[-1]\n",
    "        stop_loss = current_price + 1500 * symbol_info.point\n",
    "        take_profit = current_price - 1000* symbol_info.point\n",
    "        print(f\"RSI: {rsi.rsi.iloc[-1]:.2f} (below 22)\")\n",
    "        print(f\"Current price: {current_price:.5f}\")\n",
    "        print(f\"Stop loss: {stop_loss:.5f}\")\n",
    "        print(f\"Take profit: {take_profit:.5f}\")\n",
    "        print(\"-\" * 30)\n",
    "\n",
    "    time.sleep(60)  # wait for 60 seconds"
   ]
  }
 ],
 "metadata": {
  "kernelspec": {
   "display_name": "Python 3 (ipykernel)",
   "language": "python",
   "name": "python3"
  },
  "language_info": {
   "codemirror_mode": {
    "name": "ipython",
    "version": 3
   },
   "file_extension": ".py",
   "mimetype": "text/x-python",
   "name": "python",
   "nbconvert_exporter": "python",
   "pygments_lexer": "ipython3",
   "version": "3.9.0"
  }
 },
 "nbformat": 4,
 "nbformat_minor": 5
}
