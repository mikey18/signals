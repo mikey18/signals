{
 "cells": [
  {
   "cell_type": "code",
   "execution_count": null,
   "id": "6af18466-0fef-4217-a696-a5e2a21ac34b",
   "metadata": {},
   "outputs": [],
   "source": [
    "import pandas as pd\n",
    "import vectorbt as vbt\n",
    "import pandas_ta as ta\n",
    "import datetime\n",
    "import time\n",
    "import MetaTrader5 as mt5\n",
    "\n",
    "\n",
    "if not mt5.initialize():\n",
    "    print(\"initialize() failed, error code =\", mt5.last_error())\n",
    "    quit()\n",
    "symbol = \"XAUUSD\"\n",
    "\n",
    "\n",
    "while True:\n",
    "    print(\"Getting data in progress...\")\n",
    "    # Get the latest data\n",
    "    bars = mt5.copy_rates_from(symbol, mt5.TIMEFRAME_M1, datetime.datetime.now(), 365)\n",
    "    df = pd.DataFrame(bars)\n",
    "    df['time'] = pd.to_datetime(df['time'], unit='s')\n",
    "    df = df.set_index('time')\n",
    "    current_price = df['close'].iloc[-1]\n",
    "\n",
    "    # Calculate indicators\n",
    "    print(\"Calculating indicators in progress...\")\n",
    "    ma14 = vbt.MA.run(df['close'], 14)\n",
    "    ma50 = vbt.MA.run(df['close'], 50)\n",
    "    ma365 = vbt.MA.run(df['close'], 365)\n",
    "    rsi = vbt.RSI.run(df['close'], 14)\n",
    "    \n",
    "    # Check the conditions for the last bar\n",
    "    print(\"Checking conditions in progress...\\n\")\n",
    "    if (ma14.ma.iloc[-1] > ma50.ma.iloc[-1] > ma365.ma.iloc[-1] and rsi.rsi.iloc[-1] < 40):\n",
    "        print(\"Buy condition met:\")\n",
    "        print(f\"RSI: {rsi.rsi.iloc[-1]:.2f} (below 40)\")\n",
    "        print(f\"14 SMA: {ma14.ma.iloc[-1]:.5f} (above 50 SMA and 50 SMA > 365 SMA)\")\n",
    "        print(f\"Current price: {current_price:.5f}\")\n",
    "        print(\"-\" * 30)\n",
    "    \n",
    "    elif (ma14.ma.iloc[-1] < ma50.ma.iloc[-1] < ma365.ma.iloc[-1] and rsi.rsi.iloc[-1] > 60):\n",
    "        print(\"Sell condition met:\")\n",
    "        print(f\"RSI: {rsi.rsi.iloc[-1]:.2f} (above 60)\")\n",
    "        print(f\"14 SMA: {ma14.ma.iloc[-1]:.5f} (below 50 SMA and 50 SMA < 365 SMA)\")\n",
    "        print(f\"Current price: {current_price:.5f}\")\n",
    "        print(\"-\" * 30)\n",
    "\n",
    "    time.sleep(60)  # wait for 60 seconds\n"
   ]
  }
 ],
 "metadata": {
  "kernelspec": {
   "display_name": "Python 3 (ipykernel)",
   "language": "python",
   "name": "python3"
  },
  "language_info": {
   "codemirror_mode": {
    "name": "ipython",
    "version": 3
   },
   "file_extension": ".py",
   "mimetype": "text/x-python",
   "name": "python",
   "nbconvert_exporter": "python",
   "pygments_lexer": "ipython3",
   "version": "3.9.0"
  }
 },
 "nbformat": 4,
 "nbformat_minor": 5
}
